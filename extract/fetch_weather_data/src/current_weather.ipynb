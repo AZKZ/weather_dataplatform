{
 "cells": [
  {
   "cell_type": "code",
   "execution_count": 1,
   "metadata": {},
   "outputs": [],
   "source": [
    "import requests\n",
    "import os\n",
    "import json\n",
    "import datetime\n",
    "\n",
    "# 環境変数の読み込み\n",
    "%load_ext dotenv\n",
    "%dotenv\n",
    "\n",
    "# TEMPファイル出力先\n",
    "TEMP_FILE_DIR = os.environ.get(\"TEMP_FILE_DIR\")\n",
    "\n",
    "# APIキー\n",
    "API_KEY = os.environ.get(\"OWM_API_KEY\")"
   ]
  },
  {
   "cell_type": "code",
   "execution_count": 2,
   "metadata": {},
   "outputs": [],
   "source": [
    "# 対象とする都道府県\n",
    "pref_dict = {\n",
    "    \"東京都\":{\n",
    "        \"id\":\"1850144\"\n",
    "    },\n",
    "    \"神奈川県\":{\n",
    "        \"id\":\"1860291\"\n",
    "    },\n",
    "}\n",
    "\n",
    "# 気候情報のJSONリスト\n",
    "weather_json_list = []\n",
    "\n",
    "# 都市ごとの気候を取得する\n",
    "for pref in pref_dict.values():\n",
    "\n",
    "    # リクエスト\n",
    "    response = requests.get(\n",
    "            \"https://api.openweathermap.org/data/2.5/weather\",\n",
    "            params={\n",
    "                \"id\": pref[\"id\"],\n",
    "                \"appid\": API_KEY,\n",
    "                \"units\": \"metric\",\n",
    "                \"lang\": \"ja\",\n",
    "            },\n",
    "        )\n",
    "    weather_json_list.append(response.text)"
   ]
  },
  {
   "cell_type": "code",
   "execution_count": 3,
   "metadata": {},
   "outputs": [],
   "source": [
    "today = datetime.datetime.today().strftime(\"%Y%m%d\")\n",
    "filename = f\"weather_{today}.json\"\n",
    "\n",
    "with open(os.path.join(TEMP_FILE_DIR,filename),mode=\"w\",encoding=\"utf-8\") as f:\n",
    "    for json_text in weather_json_list:\n",
    "        f.write(json_text)\n",
    "        f.write(\"\\n\")"
   ]
  }
 ],
 "metadata": {
  "kernelspec": {
   "display_name": "Python 3.9.7 ('python-DrMow9ms')",
   "language": "python",
   "name": "python3"
  },
  "language_info": {
   "codemirror_mode": {
    "name": "ipython",
    "version": 3
   },
   "file_extension": ".py",
   "mimetype": "text/x-python",
   "name": "python",
   "nbconvert_exporter": "python",
   "pygments_lexer": "ipython3",
   "version": "3.9.7"
  },
  "orig_nbformat": 4,
  "vscode": {
   "interpreter": {
    "hash": "3d7d78fe9e82ef03832da9ad7f9332c3e93063c2bbf222ffa84f86f3665531d4"
   }
  }
 },
 "nbformat": 4,
 "nbformat_minor": 2
}
